{
 "cells": [
  {
   "cell_type": "markdown",
   "id": "24569fdd",
   "metadata": {},
   "source": [
    "4.1: Define a Python function is_in_high_school(age) that takes the age of a\n",
    "person and determines if the person is in high school or not. Assume that for a person to be in high school, their age should be between 14 and 18, inclusive. (4 points)\n"
   ]
  },
  {
   "cell_type": "code",
   "execution_count": null,
   "id": "df41a34a",
   "metadata": {},
   "outputs": [],
   "source": [
    "def is_in_high_school(age):\n",
    "    if 14 <= age <= 18:\n",
    "        \n",
    "        print(\"The person age is\",age ,\" years old.That person age is in high school!\" ) \n",
    "    else:\n",
    "        print(\"The person age is\",age ,\" years old.That person age is NOT in high school!\") \n",
    "#test        \n",
    "is_in_high_school(14)"
   ]
  },
  {
   "cell_type": "markdown",
   "id": "4ce6353d",
   "metadata": {},
   "source": [
    "4.2: Iterate over the list [25,18,9,13,34,15,22,17,12,37,15] and call your function is_in_high_school(age) on each age value. (4 points)\n"
   ]
  },
  {
   "cell_type": "code",
   "execution_count": null,
   "id": "4564f19f",
   "metadata": {},
   "outputs": [],
   "source": [
    "age_list = ([25,18,9,13,34,15,22,17,12,37,15])\n",
    "age_list.sort()\n",
    "for age in age_list:\n",
    "    is_in_high_school( age )\n"
   ]
  },
  {
   "cell_type": "markdown",
   "id": "685bc86f",
   "metadata": {},
   "source": [
    "●  4.3: Calculate the percentage of people in your age list not going to high school.\n",
    "(4 points)"
   ]
  },
  {
   "cell_type": "code",
   "execution_count": null,
   "id": "68d174d5",
   "metadata": {},
   "outputs": [],
   "source": [
    "# x will be the length of the age which is 11 \n",
    "x = len( list (age_list) )\n",
    "result= (len ([i for i in age_list if 14 <= i <= 18])/ x)* 100\n",
    "print(\"Percentage of people who are going to high school is\", round(result,1),\"%\")\n",
    "result_not_hs=(100 - result) \n",
    "print(\"Percentage of people who are going to high school is\", round(result_not_hs,1),\"%\")\n",
    "\n",
    "\n",
    "\n",
    "\n",
    "\n"
   ]
  },
  {
   "cell_type": "code",
   "execution_count": null,
   "id": "3bbe3657",
   "metadata": {},
   "outputs": [],
   "source": []
  },
  {
   "cell_type": "code",
   "execution_count": 9,
   "id": "ae8e85b8",
   "metadata": {},
   "outputs": [
    {
     "name": "stdout",
     "output_type": "stream",
     "text": [
      "The person age is 13  years old.That person age is NOT in high school!\n"
     ]
    }
   ],
   "source": [
    "def is_in_high_school(ages):\n",
    "    if ages in range(14,19): \n",
    "        print(\"The person age is\",ages ,\" years old.That person age is in high school!\" ) \n",
    "    else:\n",
    "        print(\"The person age is\",ages ,\" years old.That person age is NOT in high school!\") \n",
    "#test        \n",
    "is_in_high_school(13)"
   ]
  },
  {
   "cell_type": "code",
   "execution_count": null,
   "id": "a3c4259c",
   "metadata": {},
   "outputs": [],
   "source": []
  }
 ],
 "metadata": {
  "kernelspec": {
   "display_name": "Python 3",
   "language": "python",
   "name": "python3"
  },
  "language_info": {
   "codemirror_mode": {
    "name": "ipython",
    "version": 3
   },
   "file_extension": ".py",
   "mimetype": "text/x-python",
   "name": "python",
   "nbconvert_exporter": "python",
   "pygments_lexer": "ipython3",
   "version": "3.8.8"
  }
 },
 "nbformat": 4,
 "nbformat_minor": 5
}
